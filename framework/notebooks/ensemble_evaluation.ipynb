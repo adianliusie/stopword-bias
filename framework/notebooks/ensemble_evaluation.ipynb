{
 "cells": [
  {
   "cell_type": "code",
   "execution_count": 1,
   "id": "40c6d37d",
   "metadata": {},
   "outputs": [
    {
     "name": "stdout",
     "output_type": "stream",
     "text": [
      "/home/alta/Conversational/OET/al826/2022/shortcuts/shortcutlearningNLP/framework\n"
     ]
    }
   ],
   "source": [
    "%cd .."
   ]
  },
  {
   "cell_type": "code",
   "execution_count": 5,
   "id": "b8de6dd6",
   "metadata": {},
   "outputs": [
    {
     "name": "stderr",
     "output_type": "stream",
     "text": [
      "25000it [05:25, 76.73it/s]\n",
      "25000it [05:26, 76.56it/s]\n",
      "Reusing dataset imdb (/home/alta/Conversational/OET/al826/.cache/huggingface/datasets/imdb/plain_text/1.0.0/2fdd8b9bcadd6e7055e742a706876ba43f19faee861df134affd7a3f60fc38a1)\n"
     ]
    },
    {
     "data": {
      "application/vnd.jupyter.widget-view+json": {
       "model_id": "1c71a8aa60634b49b8f28f9a9db8c429",
       "version_major": 2,
       "version_minor": 0
      },
      "text/plain": [
       "  0%|          | 0/3 [00:00<?, ?it/s]"
      ]
     },
     "metadata": {},
     "output_type": "display_data"
    },
    {
     "name": "stdout",
     "output_type": "stream",
     "text": [
      "0.94212\n"
     ]
    }
   ],
   "source": [
    "from src.system_loader import EnsembleLoader, SystemLoader\n",
    "from src.utils.evaluation import get_accuracy\n",
    "\n",
    "system = EnsembleLoader('trained_models/imdb/baseline')\n",
    "preds  = system.load_preds('imdb',  mode='test')\n",
    "labels = SystemLoader.load_labels('imdb', mode='test')\n",
    "print(get_accuracy(preds, labels))"
   ]
  },
  {
   "cell_type": "code",
   "execution_count": 8,
   "id": "1e248a4e",
   "metadata": {},
   "outputs": [
    {
     "name": "stderr",
     "output_type": "stream",
     "text": [
      "Reusing dataset imdb (/home/alta/Conversational/OET/al826/.cache/huggingface/datasets/imdb/plain_text/1.0.0/2fdd8b9bcadd6e7055e742a706876ba43f19faee861df134affd7a3f60fc38a1)\n"
     ]
    },
    {
     "data": {
      "application/vnd.jupyter.widget-view+json": {
       "model_id": "957aacb4097941249e8be91e00c0fe8f",
       "version_major": 2,
       "version_minor": 0
      },
      "text/plain": [
       "  0%|          | 0/3 [00:00<?, ?it/s]"
      ]
     },
     "metadata": {},
     "output_type": "display_data"
    },
    {
     "name": "stdout",
     "output_type": "stream",
     "text": [
      "0.94212\n",
      "0.7115\n"
     ]
    }
   ],
   "source": [
    "from src.system_loader import EnsembleLoader, SystemLoader\n",
    "from src.utils.evaluation import get_accuracy\n",
    "\n",
    "system = EnsembleLoader('trained_models/imdb/baseline')\n",
    "preds  = system.load_preds('imdb',  mode='test')\n",
    "labels = SystemLoader.load_labels('imdb', mode='test')\n",
    "print(get_accuracy(preds, labels))\n",
    "\n",
    "preds  = system.load_preds('twitter',  mode='test')\n",
    "labels = SystemLoader.load_labels('twitter', mode='test')\n",
    "print(get_accuracy(preds, labels))\n",
    "\n",
    "#system = EnsembleLoader('trained_models/imdb/no_pretrain')\n",
    "#preds  = system.load_preds('rt',  mode='test')\n",
    "#labels = SystemLoader.load_labels('rt', mode='test')\n",
    "#print(get_accuracy(preds, labels))\n",
    "\n",
    "#preds  = system.load_preds('sst',  mode='test')\n",
    "#labels = system.load_labels('sst', mode='test')\n",
    "#print(get_accuracy(preds, labels))\n"
   ]
  },
  {
   "cell_type": "code",
   "execution_count": null,
   "id": "3043a9ec",
   "metadata": {},
   "outputs": [],
   "source": []
  }
 ],
 "metadata": {
  "kernelspec": {
   "display_name": "Python 3 (ipykernel)",
   "language": "python",
   "name": "python3"
  },
  "language_info": {
   "codemirror_mode": {
    "name": "ipython",
    "version": 3
   },
   "file_extension": ".py",
   "mimetype": "text/x-python",
   "name": "python",
   "nbconvert_exporter": "python",
   "pygments_lexer": "ipython3",
   "version": "3.9.12"
  }
 },
 "nbformat": 4,
 "nbformat_minor": 5
}
