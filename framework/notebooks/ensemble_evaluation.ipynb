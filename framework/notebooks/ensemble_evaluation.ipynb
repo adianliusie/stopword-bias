{
 "cells": [
  {
   "cell_type": "code",
   "execution_count": 1,
   "id": "40c6d37d",
   "metadata": {},
   "outputs": [
    {
     "name": "stdout",
     "output_type": "stream",
     "text": [
      "/home/alta/Conversational/OET/al826/2022/shortcuts/shortcutlearningNLP/framework\n"
     ]
    }
   ],
   "source": [
    "%cd .."
   ]
  },
  {
   "cell_type": "code",
   "execution_count": 2,
   "id": "b8de6dd6",
   "metadata": {},
   "outputs": [
    {
     "name": "stderr",
     "output_type": "stream",
     "text": [
      "Reusing dataset imdb (/home/alta/Conversational/OET/al826/.cache/huggingface/datasets/imdb/plain_text/1.0.0/2fdd8b9bcadd6e7055e742a706876ba43f19faee861df134affd7a3f60fc38a1)\n"
     ]
    },
    {
     "data": {
      "application/vnd.jupyter.widget-view+json": {
       "model_id": "264a95caae9a4c8195d6fa17cf7f520f",
       "version_major": 2,
       "version_minor": 0
      },
      "text/plain": [
       "  0%|          | 0/3 [00:00<?, ?it/s]"
      ]
     },
     "metadata": {},
     "output_type": "display_data"
    },
    {
     "name": "stdout",
     "output_type": "stream",
     "text": [
      "0.91056\n"
     ]
    }
   ],
   "source": [
    "from src.system_loader import EnsembleLoader, SystemLoader\n",
    "from src.utils.evaluation import get_accuracy\n",
    "\n",
    "system = EnsembleLoader('trained_models/hopeful/glove_bilstm_2')\n",
    "preds  = system.load_preds('imdb', mode='test')\n",
    "labels = SystemLoader.load_labels('imdb', mode='test')\n",
    "print(get_accuracy(preds, labels))"
   ]
  },
  {
   "cell_type": "code",
   "execution_count": 3,
   "id": "8af91597",
   "metadata": {},
   "outputs": [
    {
     "name": "stdout",
     "output_type": "stream",
     "text": [
      "0.6869565217391305\n"
     ]
    }
   ],
   "source": [
    "from src.system_loader import EnsembleLoader, SystemLoader\n",
    "from src.utils.evaluation import get_accuracy\n",
    "\n",
    "system = EnsembleLoader('trained_models/hopeful/glove_bilstm_2')\n",
    "preds  = system.load_preds('twitter', mode='test')\n",
    "labels = SystemLoader.load_labels('twitter', mode='test')\n",
    "print(get_accuracy(preds, labels))"
   ]
  },
  {
   "cell_type": "code",
   "execution_count": 4,
   "id": "3043a9ec",
   "metadata": {},
   "outputs": [
    {
     "name": "stderr",
     "output_type": "stream",
     "text": [
      "Using custom data configuration default\n",
      "Reusing dataset rotten_tomatoes_movie_review (/home/alta/Conversational/OET/al826/.cache/huggingface/datasets/rotten_tomatoes_movie_review/default/1.0.0/40d411e45a6ce3484deed7cc15b82a53dad9a72aafd9f86f8f227134bec5ca46)\n"
     ]
    },
    {
     "data": {
      "application/vnd.jupyter.widget-view+json": {
       "model_id": "d798d05c7ae94da699aebdbd4d4ab674",
       "version_major": 2,
       "version_minor": 0
      },
      "text/plain": [
       "  0%|          | 0/3 [00:00<?, ?it/s]"
      ]
     },
     "metadata": {},
     "output_type": "display_data"
    },
    {
     "name": "stdout",
     "output_type": "stream",
     "text": [
      "0.7729831144465291\n"
     ]
    }
   ],
   "source": [
    "from src.system_loader import EnsembleLoader, SystemLoader\n",
    "from src.utils.evaluation import get_accuracy\n",
    "\n",
    "system = EnsembleLoader('trained_models/hopeful/glove_bilstm_2')\n",
    "preds  = system.load_preds('rt', mode='test')\n",
    "labels = SystemLoader.load_labels('rt', mode='test')\n",
    "print(get_accuracy(preds, labels))"
   ]
  },
  {
   "cell_type": "code",
   "execution_count": null,
   "id": "959a69a4",
   "metadata": {},
   "outputs": [],
   "source": []
  }
 ],
 "metadata": {
  "kernelspec": {
   "display_name": "Python 3 (ipykernel)",
   "language": "python",
   "name": "python3"
  },
  "language_info": {
   "codemirror_mode": {
    "name": "ipython",
    "version": 3
   },
   "file_extension": ".py",
   "mimetype": "text/x-python",
   "name": "python",
   "nbconvert_exporter": "python",
   "pygments_lexer": "ipython3",
   "version": "3.9.12"
  }
 },
 "nbformat": 4,
 "nbformat_minor": 5
}
