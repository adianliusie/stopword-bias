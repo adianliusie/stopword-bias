{
 "cells": [
  {
   "cell_type": "code",
   "execution_count": 1,
   "id": "40c6d37d",
   "metadata": {},
   "outputs": [
    {
     "name": "stdout",
     "output_type": "stream",
     "text": [
      "/home/alta/Conversational/OET/al826/2022/shortcuts/shortcutlearningNLP/framework\n"
     ]
    }
   ],
   "source": [
    "%cd .."
   ]
  },
  {
   "cell_type": "code",
   "execution_count": 2,
   "id": "b8de6dd6",
   "metadata": {},
   "outputs": [
    {
     "name": "stderr",
     "output_type": "stream",
     "text": [
      "Using the latest cached version of the module from /home/miproj/4thyr.oct2019/al826/.cache/huggingface/modules/datasets_modules/datasets/yelp_polarity/14f90415c754f47cf9087eadac25823a395fef4400c7903c5897f55cfaaa6f61 (last modified on Mon Jun 13 14:55:37 2022) since it couldn't be found locally at yelp_polarity., or remotely on the Hugging Face Hub.\n",
      "Reusing dataset yelp_polarity (/home/alta/Conversational/OET/al826/.cache/huggingface/datasets/yelp_polarity/plain_text/1.0.0/14f90415c754f47cf9087eadac25823a395fef4400c7903c5897f55cfaaa6f61)\n"
     ]
    },
    {
     "data": {
      "application/vnd.jupyter.widget-view+json": {
       "model_id": "2723f5ac574f44c5a8a78f819263f854",
       "version_major": 2,
       "version_minor": 0
      },
      "text/plain": [
       "  0%|          | 0/2 [00:00<?, ?it/s]"
      ]
     },
     "metadata": {},
     "output_type": "display_data"
    },
    {
     "name": "stderr",
     "output_type": "stream",
     "text": [
      "  0%|                                                                                                       | 0/448000 [00:00<?, ?it/s]Token indices sequence length is longer than the specified maximum sequence length for this model (1243 > 512). Running this sequence through the model will result in indexing errors\n",
      "100%|████████████████████████████████████████████████████████████████████████████████████████| 448000/448000 [04:19<00:00, 1726.35it/s]\n",
      "100%|████████████████████████████████████████████████████████████████████████████████████████| 112000/112000 [01:07<00:00, 1648.92it/s]\n",
      "100%|██████████████████████████████████████████████████████████████████████████████████████████| 38000/38000 [00:22<00:00, 1656.04it/s]\n",
      "38000it [07:30, 84.39it/s]\n",
      "38000it [07:32, 83.90it/s]\n",
      "38000it [07:32, 83.91it/s]\n",
      "Reusing dataset yelp_polarity (/home/alta/Conversational/OET/al826/.cache/huggingface/datasets/yelp_polarity/plain_text/1.0.0/14f90415c754f47cf9087eadac25823a395fef4400c7903c5897f55cfaaa6f61)\n"
     ]
    },
    {
     "data": {
      "application/vnd.jupyter.widget-view+json": {
       "model_id": "25ba0bec2ee741f6a2c4741c17067363",
       "version_major": 2,
       "version_minor": 0
      },
      "text/plain": [
       "  0%|          | 0/2 [00:00<?, ?it/s]"
      ]
     },
     "metadata": {},
     "output_type": "display_data"
    },
    {
     "name": "stdout",
     "output_type": "stream",
     "text": [
      "0.9264736842105263\n"
     ]
    }
   ],
   "source": [
    "from src.system_loader import EnsembleLoader, SystemLoader\n",
    "from src.utils.evaluation import get_accuracy\n",
    "\n",
    "system = EnsembleLoader('trained_models/imdb/baseline')\n",
    "preds  = system.load_preds('yelp',  mode='test')\n",
    "labels = SystemLoader.load_labels('yelp', mode='test')\n",
    "print(get_accuracy(preds, labels))"
   ]
  },
  {
   "cell_type": "code",
   "execution_count": 3,
   "id": "1e248a4e",
   "metadata": {},
   "outputs": [
    {
     "name": "stderr",
     "output_type": "stream",
     "text": [
      "Reusing dataset imdb (/home/alta/Conversational/OET/al826/.cache/huggingface/datasets/imdb/plain_text/1.0.0/2fdd8b9bcadd6e7055e742a706876ba43f19faee861df134affd7a3f60fc38a1)\n"
     ]
    },
    {
     "data": {
      "application/vnd.jupyter.widget-view+json": {
       "model_id": "16b0ed2774b943d8818d01729dceff89",
       "version_major": 2,
       "version_minor": 0
      },
      "text/plain": [
       "  0%|          | 0/3 [00:00<?, ?it/s]"
      ]
     },
     "metadata": {},
     "output_type": "display_data"
    },
    {
     "name": "stdout",
     "output_type": "stream",
     "text": [
      "0.94212\n",
      "0.7115\n"
     ]
    }
   ],
   "source": [
    "from src.system_loader import EnsembleLoader, SystemLoader\n",
    "from src.utils.evaluation import get_accuracy\n",
    "\n",
    "system = EnsembleLoader('trained_models/imdb/baseline')\n",
    "preds  = system.load_preds('imdb',  mode='test')\n",
    "labels = SystemLoader.load_labels('imdb', mode='test')\n",
    "print(get_accuracy(preds, labels))\n",
    "\n",
    "preds  = system.load_preds('twitter',  mode='test')\n",
    "labels = SystemLoader.load_labels('twitter', mode='test')\n",
    "print(get_accuracy(preds, labels))\n",
    "\n",
    "#system = EnsembleLoader('trained_models/imdb/no_pretrain')\n",
    "#preds  = system.load_preds('rt',  mode='test')\n",
    "#labels = SystemLoader.load_labels('rt', mode='test')\n",
    "#print(get_accuracy(preds, labels))\n",
    "\n",
    "#preds  = system.load_preds('sst',  mode='test')\n",
    "#labels = system.load_labels('sst', mode='test')\n",
    "#print(get_accuracy(preds, labels))\n"
   ]
  },
  {
   "cell_type": "code",
   "execution_count": null,
   "id": "3043a9ec",
   "metadata": {},
   "outputs": [],
   "source": []
  }
 ],
 "metadata": {
  "kernelspec": {
   "display_name": "Python 3 (ipykernel)",
   "language": "python",
   "name": "python3"
  },
  "language_info": {
   "codemirror_mode": {
    "name": "ipython",
    "version": 3
   },
   "file_extension": ".py",
   "mimetype": "text/x-python",
   "name": "python",
   "nbconvert_exporter": "python",
   "pygments_lexer": "ipython3",
   "version": "3.9.12"
  }
 },
 "nbformat": 4,
 "nbformat_minor": 5
}
