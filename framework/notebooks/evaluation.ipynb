{
 "cells": [
  {
   "cell_type": "code",
   "execution_count": 1,
   "id": "40c6d37d",
   "metadata": {},
   "outputs": [
    {
     "name": "stdout",
     "output_type": "stream",
     "text": [
      "/home/alta/Conversational/OET/al826/2022/shortcuts/shortcutlearningNLP/framework\n"
     ]
    }
   ],
   "source": [
    "%cd .."
   ]
  },
  {
   "cell_type": "code",
   "execution_count": 2,
   "id": "b8de6dd6",
   "metadata": {},
   "outputs": [],
   "source": [
    "from src.system_loader import SystemLoader\n",
    "from src.utils.evaluation import get_accuracy\n",
    "\n",
    "system = SystemLoader('trained_models/single_seed/imdb/bert_baseline')"
   ]
  },
  {
   "cell_type": "code",
   "execution_count": null,
   "id": "1e248a4e",
   "metadata": {},
   "outputs": [
    {
     "name": "stderr",
     "output_type": "stream",
     "text": [
      "100%|████████████████████████████████████████████████████████| 16000/16000 [00:01<00:00, 9090.15it/s]\n",
      "100%|█████████████████████████████████████████████████████████| 2000/2000 [00:00<00:00, 10547.08it/s]\n",
      "100%|█████████████████████████████████████████████████████████| 2000/2000 [00:00<00:00, 10382.12it/s]\n",
      "2000it [00:38, 52.09it/s]"
     ]
    }
   ],
   "source": [
    "preds  = system.load_preds('twitter',  mode='test')\n",
    "labels = system.load_labels('twitter', mode='test')\n",
    "print(get_accuracy(preds, labels))\n",
    "\n",
    "#preds  = system.load_preds('rt',  mode='test')\n",
    "#labels = system.load_labels('rt', mode='test')\n",
    "#print(get_accuracy(preds, labels))\n",
    "\n",
    "#preds  = system.load_preds('sst',  mode='test')\n",
    "#labels = system.load_labels('sst', mode='test')\n",
    "#print(get_accuracy(preds, labels))\n"
   ]
  },
  {
   "cell_type": "code",
   "execution_count": null,
   "id": "3043a9ec",
   "metadata": {},
   "outputs": [],
   "source": []
  }
 ],
 "metadata": {
  "kernelspec": {
   "display_name": "Python 3 (ipykernel)",
   "language": "python",
   "name": "python3"
  },
  "language_info": {
   "codemirror_mode": {
    "name": "ipython",
    "version": 3
   },
   "file_extension": ".py",
   "mimetype": "text/x-python",
   "name": "python",
   "nbconvert_exporter": "python",
   "pygments_lexer": "ipython3",
   "version": "3.9.12"
  }
 },
 "nbformat": 4,
 "nbformat_minor": 5
}
