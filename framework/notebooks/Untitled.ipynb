{
 "cells": [
  {
   "cell_type": "code",
   "execution_count": 1,
   "id": "cb86f2fa",
   "metadata": {},
   "outputs": [
    {
     "name": "stdout",
     "output_type": "stream",
     "text": [
      "/home/alta/Conversational/OET/al826/2022/shortcuts/shortcutlearningNLP/framework\n"
     ]
    }
   ],
   "source": [
    "%cd .."
   ]
  },
  {
   "cell_type": "code",
   "execution_count": 6,
   "id": "39c50935",
   "metadata": {},
   "outputs": [],
   "source": [
    "from src.system_loader import SystemLoader\n",
    "from src.utils.evaluation import get_accuracy\n",
    "\n",
    "system = SystemLoader('trained_models/imdb/baseline')\n",
    "system.set_up_helpers()\n",
    "system.data_loader.formatting = 'mask_content'"
   ]
  },
  {
   "cell_type": "code",
   "execution_count": 7,
   "id": "f68be9a8",
   "metadata": {},
   "outputs": [
    {
     "name": "stderr",
     "output_type": "stream",
     "text": [
      "Reusing dataset imdb (/home/alta/Conversational/OET/al826/.cache/huggingface/datasets/imdb/plain_text/1.0.0/2fdd8b9bcadd6e7055e742a706876ba43f19faee861df134affd7a3f60fc38a1)\n"
     ]
    },
    {
     "data": {
      "application/vnd.jupyter.widget-view+json": {
       "model_id": "fe08335335ad41b6b63c119db6d67350",
       "version_major": 2,
       "version_minor": 0
      },
      "text/plain": [
       "  0%|          | 0/3 [00:00<?, ?it/s]"
      ]
     },
     "metadata": {},
     "output_type": "display_data"
    },
    {
     "name": "stderr",
     "output_type": "stream",
     "text": [
      "  0%|                                                                       | 0/5000 [00:00<?, ?it/s]Token indices sequence length is longer than the specified maximum sequence length for this model (793 > 512). Running this sequence through the model will result in indexing errors\n",
      "100%|███████████████████████████████████████████████████████████| 5000/5000 [00:07<00:00, 690.16it/s]"
     ]
    },
    {
     "name": "stdout",
     "output_type": "stream",
     "text": [
      "[CLS] [MASK] [MASK] is not the [MASK] [MASK] to [MASK] [MASK] to [MASK] [MASK] [MASK] [MASK] [MASK] [MASK] [MASK] [MASK] in the [MASK] [MASK] for the most [MASK] [MASK] by a [MASK] more [MASK] [MASK] to [MASK] [MASK] [MASK] the [MASK] [MASK] of the [MASK] is [MASK] [MASK] [MASK] in [MASK] [MASK] [MASK] it does have a [MASK] [MASK] [MASK] the [MASK] [MASK] out of the [MASK] [MASK] on those [MASK] [MASK] which [MASK] [MASK] [MASK] and [MASK] those [MASK] [MASK] [MASK] [MASK] [MASK] for [MASK] [MASK] [MASK] it [MASK] so [MASK] [MASK] with [MASK] in the [MASK] [MASK] [MASK] [MASK] is [MASK] very [MASK] [MASK] [MASK] on the [MASK] [MASK] [MASK] [MASK] with his [MASK] and [MASK] the [MASK] between the [MASK] and [MASK] [MASK] [MASK] [MASK] [MASK] and [MASK] [MASK] in a [MASK] that [MASK] [MASK] is [MASK] of a [MASK] [MASK] [MASK] [MASK] [MASK] in the [MASK] are [MASK] [MASK] and [MASK] is [MASK] a [MASK] [MASK] on the [MASK] [MASK] the [MASK] [MASK] [MASK] between [MASK] and [MASK] and the [MASK] [MASK] [MASK] between [MASK] and [MASK] do [MASK] so [MASK] in a [MASK] that [MASK] for [MASK] of a [MASK] [MASK] [MASK] [MASK] [MASK] [MASK] [MASK] [MASK] is of [MASK] [MASK] [MASK] [MASK] with what [MASK] out to be [MASK] a [MASK] [MASK] and [MASK] that [MASK] [MASK] all to [MASK] [MASK] [MASK] of these [MASK] where [MASK] [MASK] [MASK] does [MASK] [MASK] to a [MASK] [MASK] of [MASK] [MASK] [MASK] [MASK] to an [MASK] [MASK] it all [MASK] [MASK] into what can only be [MASK] as [MASK] [MASK] [SEP]\n"
     ]
    },
    {
     "name": "stderr",
     "output_type": "stream",
     "text": [
      "\n"
     ]
    }
   ],
   "source": [
    "batches = system._get_eval_batches('imdb', mode='dev')\n",
    "x = next(batches)\n",
    "print(system.data_loader.tokenizer.decode(x.ids[0]))\n"
   ]
  },
  {
   "cell_type": "code",
   "execution_count": 8,
   "id": "a5ee105c",
   "metadata": {},
   "outputs": [
    {
     "name": "stderr",
     "output_type": "stream",
     "text": [
      "Reusing dataset imdb (/home/alta/Conversational/OET/al826/.cache/huggingface/datasets/imdb/plain_text/1.0.0/2fdd8b9bcadd6e7055e742a706876ba43f19faee861df134affd7a3f60fc38a1)\n"
     ]
    },
    {
     "data": {
      "application/vnd.jupyter.widget-view+json": {
       "model_id": "5b9c592779b342ccb1e58aea8728814b",
       "version_major": 2,
       "version_minor": 0
      },
      "text/plain": [
       "  0%|          | 0/3 [00:00<?, ?it/s]"
      ]
     },
     "metadata": {},
     "output_type": "display_data"
    },
    {
     "name": "stderr",
     "output_type": "stream",
     "text": [
      "100%|███████████████████████████████████████████████████████████| 5000/5000 [00:07<00:00, 695.85it/s]\n",
      "5000it [01:01, 81.93it/s]\n",
      "Reusing dataset imdb (/home/alta/Conversational/OET/al826/.cache/huggingface/datasets/imdb/plain_text/1.0.0/2fdd8b9bcadd6e7055e742a706876ba43f19faee861df134affd7a3f60fc38a1)\n"
     ]
    },
    {
     "data": {
      "application/vnd.jupyter.widget-view+json": {
       "model_id": "fa5eab99a589432f9a7de2d8501fe4ab",
       "version_major": 2,
       "version_minor": 0
      },
      "text/plain": [
       "  0%|          | 0/3 [00:00<?, ?it/s]"
      ]
     },
     "metadata": {},
     "output_type": "display_data"
    }
   ],
   "source": [
    "probs = system._probs(data_name='imdb', mode='dev')\n",
    "labels = system.load_labels('imdb', mode='dev')"
   ]
  },
  {
   "cell_type": "code",
   "execution_count": 9,
   "id": "8c0317b5",
   "metadata": {},
   "outputs": [
    {
     "name": "stdout",
     "output_type": "stream",
     "text": [
      "0.5498\n"
     ]
    }
   ],
   "source": [
    "import numpy as np\n",
    "\n",
    "preds = {}\n",
    "for k, probs in probs.items():\n",
    "    preds[k] = int(np.argmax(probs, axis=-1))\n",
    "\n",
    "print(get_accuracy(preds, labels))"
   ]
  },
  {
   "cell_type": "code",
   "execution_count": null,
   "id": "c373fb25",
   "metadata": {},
   "outputs": [],
   "source": []
  },
  {
   "cell_type": "code",
   "execution_count": null,
   "id": "9af1644d",
   "metadata": {},
   "outputs": [],
   "source": []
  }
 ],
 "metadata": {
  "kernelspec": {
   "display_name": "Python 3 (ipykernel)",
   "language": "python",
   "name": "python3"
  },
  "language_info": {
   "codemirror_mode": {
    "name": "ipython",
    "version": 3
   },
   "file_extension": ".py",
   "mimetype": "text/x-python",
   "name": "python",
   "nbconvert_exporter": "python",
   "pygments_lexer": "ipython3",
   "version": "3.9.12"
  }
 },
 "nbformat": 4,
 "nbformat_minor": 5
}
