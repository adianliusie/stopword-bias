{
 "cells": [
  {
   "cell_type": "code",
   "execution_count": 1,
   "id": "40c6d37d",
   "metadata": {},
   "outputs": [
    {
     "name": "stdout",
     "output_type": "stream",
     "text": [
      "/home/alta/Conversational/OET/al826/2022/shortcuts/shortcutlearningNLP/framework\n"
     ]
    }
   ],
   "source": [
    "%cd .."
   ]
  },
  {
   "cell_type": "code",
   "execution_count": 4,
   "id": "0a65e368",
   "metadata": {},
   "outputs": [
    {
     "name": "stderr",
     "output_type": "stream",
     "text": [
      "Reusing dataset imdb (/home/alta/Conversational/OET/al826/.cache/huggingface/datasets/imdb/plain_text/1.0.0/2fdd8b9bcadd6e7055e742a706876ba43f19faee861df134affd7a3f60fc38a1)\n"
     ]
    },
    {
     "data": {
      "application/vnd.jupyter.widget-view+json": {
       "model_id": "80b6915bd1ca495bbe583468f5f78b28",
       "version_major": 2,
       "version_minor": 0
      },
      "text/plain": [
       "  0%|          | 0/3 [00:00<?, ?it/s]"
      ]
     },
     "metadata": {},
     "output_type": "display_data"
    },
    {
     "name": "stderr",
     "output_type": "stream",
     "text": [
      "  0%|                                                           | 0/25000 [00:00<?, ?it/s]Token indices sequence length is longer than the specified maximum sequence length for this model (532 > 512). Running this sequence through the model will result in indexing errors\n",
      "100%|█████████████████████████████████████████████| 25000/25000 [00:21<00:00, 1144.87it/s]\n",
      "25000it [05:21, 77.73it/s]\n",
      "Reusing dataset imdb (/home/alta/Conversational/OET/al826/.cache/huggingface/datasets/imdb/plain_text/1.0.0/2fdd8b9bcadd6e7055e742a706876ba43f19faee861df134affd7a3f60fc38a1)\n"
     ]
    },
    {
     "data": {
      "application/vnd.jupyter.widget-view+json": {
       "model_id": "632c32ea7da741f8b8ea3949cffc6801",
       "version_major": 2,
       "version_minor": 0
      },
      "text/plain": [
       "  0%|          | 0/3 [00:00<?, ?it/s]"
      ]
     },
     "metadata": {},
     "output_type": "display_data"
    },
    {
     "name": "stdout",
     "output_type": "stream",
     "text": [
      "0.0\n",
      "0.46915457450619436\n"
     ]
    },
    {
     "name": "stderr",
     "output_type": "stream",
     "text": [
      "Reusing dataset imdb (/home/alta/Conversational/OET/al826/.cache/huggingface/datasets/imdb/plain_text/1.0.0/2fdd8b9bcadd6e7055e742a706876ba43f19faee861df134affd7a3f60fc38a1)\n"
     ]
    },
    {
     "data": {
      "application/vnd.jupyter.widget-view+json": {
       "model_id": "e4e08b942977491db2867c9990900774",
       "version_major": 2,
       "version_minor": 0
      },
      "text/plain": [
       "  0%|          | 0/3 [00:00<?, ?it/s]"
      ]
     },
     "metadata": {},
     "output_type": "display_data"
    },
    {
     "name": "stdout",
     "output_type": "stream",
     "text": [
      "0.0\n",
      "0.42978119439402596\n"
     ]
    }
   ],
   "source": [
    "from src.system_loader import SystemLoader\n",
    "from src.utils.evaluation import get_accuracy, get_loss\n",
    "\n",
    "system = SystemLoader('trained_models/temp')\n",
    "preds  = system.load_probs('imdb',  mode='test')\n",
    "labels = system.load_labels('imdb', mode='test')\n",
    "print(get_accuracy(preds, labels))\n",
    "print(get_loss(preds, labels))\n",
    "\n",
    "system = SystemLoader('trained_models/imdb/no_pretrain/2')\n",
    "preds  = system.load_probs('imdb',  mode='test')\n",
    "labels = system.load_labels('imdb', mode='test')\n",
    "print(get_accuracy(preds, labels))\n",
    "print(get_loss(preds, labels))"
   ]
  },
  {
   "cell_type": "code",
   "execution_count": 3,
   "id": "3043a9ec",
   "metadata": {},
   "outputs": [
    {
     "name": "stdout",
     "output_type": "stream",
     "text": [
      "0.5935\n"
     ]
    },
    {
     "ename": "TypeError",
     "evalue": "'int' object is not subscriptable",
     "output_type": "error",
     "traceback": [
      "\u001b[0;31m---------------------------------------------------------------------------\u001b[0m",
      "\u001b[0;31mTypeError\u001b[0m                                 Traceback (most recent call last)",
      "Input \u001b[0;32mIn [3]\u001b[0m, in \u001b[0;36m<cell line: 8>\u001b[0;34m()\u001b[0m\n\u001b[1;32m      6\u001b[0m labels \u001b[38;5;241m=\u001b[39m system\u001b[38;5;241m.\u001b[39mload_labels(\u001b[38;5;124m'\u001b[39m\u001b[38;5;124mtwitter\u001b[39m\u001b[38;5;124m'\u001b[39m, mode\u001b[38;5;241m=\u001b[39m\u001b[38;5;124m'\u001b[39m\u001b[38;5;124mtest\u001b[39m\u001b[38;5;124m'\u001b[39m)\n\u001b[1;32m      7\u001b[0m \u001b[38;5;28mprint\u001b[39m(get_accuracy(preds, labels))\n\u001b[0;32m----> 8\u001b[0m \u001b[38;5;28mprint\u001b[39m(\u001b[43mget_loss\u001b[49m\u001b[43m(\u001b[49m\u001b[43mpreds\u001b[49m\u001b[43m,\u001b[49m\u001b[43m \u001b[49m\u001b[43mlabels\u001b[49m\u001b[43m)\u001b[49m)\n\u001b[1;32m     10\u001b[0m system \u001b[38;5;241m=\u001b[39m SystemLoader(\u001b[38;5;124m'\u001b[39m\u001b[38;5;124mtrained_models/imdb/no_pretrain/2\u001b[39m\u001b[38;5;124m'\u001b[39m)\n\u001b[1;32m     11\u001b[0m preds  \u001b[38;5;241m=\u001b[39m system\u001b[38;5;241m.\u001b[39mload_preds(\u001b[38;5;124m'\u001b[39m\u001b[38;5;124mtwitter\u001b[39m\u001b[38;5;124m'\u001b[39m,  mode\u001b[38;5;241m=\u001b[39m\u001b[38;5;124m'\u001b[39m\u001b[38;5;124mtest\u001b[39m\u001b[38;5;124m'\u001b[39m)\n",
      "File \u001b[0;32m/home/alta/Conversational/OET/al826/2022/shortcuts/shortcutlearningNLP/framework/src/utils/evaluation.py:16\u001b[0m, in \u001b[0;36mget_loss\u001b[0;34m(probs, labels)\u001b[0m\n\u001b[1;32m     14\u001b[0m \u001b[38;5;28;01mfor\u001b[39;00m sample_id, label \u001b[38;5;129;01min\u001b[39;00m labels\u001b[38;5;241m.\u001b[39mitems():\n\u001b[1;32m     15\u001b[0m     prob \u001b[38;5;241m=\u001b[39m probs[sample_id]\n\u001b[0;32m---> 16\u001b[0m     loss \u001b[38;5;241m-\u001b[39m\u001b[38;5;241m=\u001b[39m np\u001b[38;5;241m.\u001b[39mlog2(\u001b[43mprob\u001b[49m\u001b[43m[\u001b[49m\u001b[43mlabel\u001b[49m\u001b[43m]\u001b[49m)\n\u001b[1;32m     17\u001b[0m loss \u001b[38;5;241m/\u001b[39m\u001b[38;5;241m=\u001b[39m \u001b[38;5;28mlen\u001b[39m(labels)\n\u001b[1;32m     18\u001b[0m \u001b[38;5;28;01mreturn\u001b[39;00m loss\n",
      "\u001b[0;31mTypeError\u001b[0m: 'int' object is not subscriptable"
     ]
    }
   ],
   "source": [
    "from src.system_loader import SystemLoader\n",
    "from src.utils.evaluation import get_accuracy, get_loss\n",
    "\n",
    "system = SystemLoader('trained_models/temp')\n",
    "preds  = system.load_preds('twitter',  mode='test')\n",
    "labels = system.load_labels('twitter', mode='test')\n",
    "print(get_accuracy(preds, labels))\n",
    "print(get_loss(preds, labels))\n",
    "\n",
    "system = SystemLoader('trained_models/imdb/no_pretrain/2')\n",
    "preds  = system.load_preds('twitter',  mode='test')\n",
    "labels = system.load_labels('twitter', mode='test')\n",
    "print(get_loss(preds, labels))"
   ]
  },
  {
   "cell_type": "code",
   "execution_count": null,
   "id": "b8de6dd6",
   "metadata": {},
   "outputs": [],
   "source": [
    "from src.system_loader import SystemLoader\n",
    "from src.utils.evaluation import get_accuracy\n",
    "\n",
    "system = SystemLoader('trained_models/imdb/baseline/0')"
   ]
  },
  {
   "cell_type": "code",
   "execution_count": null,
   "id": "1e248a4e",
   "metadata": {},
   "outputs": [],
   "source": [
    "\n",
    "#preds  = system.load_preds('rt',  mode='test')\n",
    "#labels = system.load_labels('rt', mode='test')\n",
    "#print(get_accuracy(preds, labels))\n",
    "\n",
    "#preds  = system.load_preds('sst',  mode='test')\n",
    "#labels = system.load_labels('sst', mode='test')\n",
    "#print(get_accuracy(preds, labels))\n"
   ]
  },
  {
   "cell_type": "code",
   "execution_count": 12,
   "id": "7e89c778",
   "metadata": {},
   "outputs": [
    {
     "name": "stderr",
     "output_type": "stream",
     "text": [
      "Reusing dataset glue (/home/alta/Conversational/OET/al826/.cache/huggingface/datasets/glue/cola/1.0.0/dacbe3125aa31d7f70367a07a8a9e72a5a0bfeb5fc42e75c9db75b96da6053ad)\n"
     ]
    },
    {
     "data": {
      "application/vnd.jupyter.widget-view+json": {
       "model_id": "8d32e9fd6ede42159f87865fd6906657",
       "version_major": 2,
       "version_minor": 0
      },
      "text/plain": [
       "  0%|          | 0/3 [00:00<?, ?it/s]"
      ]
     },
     "metadata": {},
     "output_type": "display_data"
    },
    {
     "name": "stdout",
     "output_type": "stream",
     "text": [
      "{-1}\n"
     ]
    }
   ],
   "source": [
    "import datasets\n",
    "\n",
    "from datasets import load_dataset\n",
    "\n",
    "dataset = load_dataset(\"glue\", 'cola')['test']\n",
    "print(set([i['label'] for i in dataset]))"
   ]
  },
  {
   "cell_type": "code",
   "execution_count": null,
   "id": "1fc9ee8a",
   "metadata": {},
   "outputs": [],
   "source": []
  }
 ],
 "metadata": {
  "kernelspec": {
   "display_name": "Python 3 (ipykernel)",
   "language": "python",
   "name": "python3"
  },
  "language_info": {
   "codemirror_mode": {
    "name": "ipython",
    "version": 3
   },
   "file_extension": ".py",
   "mimetype": "text/x-python",
   "name": "python",
   "nbconvert_exporter": "python",
   "pygments_lexer": "ipython3",
   "version": "3.9.12"
  }
 },
 "nbformat": 4,
 "nbformat_minor": 5
}
