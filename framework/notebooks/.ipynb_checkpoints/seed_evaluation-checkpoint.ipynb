{
 "cells": [
  {
   "cell_type": "code",
   "execution_count": 1,
   "id": "40c6d37d",
   "metadata": {},
   "outputs": [
    {
     "name": "stdout",
     "output_type": "stream",
     "text": [
      "/home/alta/Conversational/OET/al826/2022/shortcuts/shortcutlearningNLP/framework\n"
     ]
    }
   ],
   "source": [
    "%cd .."
   ]
  },
  {
   "cell_type": "code",
   "execution_count": 2,
   "id": "3043a9ec",
   "metadata": {},
   "outputs": [
    {
     "name": "stdout",
     "output_type": "stream",
     "text": [
      "0\n"
     ]
    },
    {
     "ename": "TypeError",
     "evalue": "'int' object is not subscriptable",
     "output_type": "error",
     "traceback": [
      "\u001b[0;31m---------------------------------------------------------------------------\u001b[0m",
      "\u001b[0;31mTypeError\u001b[0m                                 Traceback (most recent call last)",
      "Input \u001b[0;32mIn [2]\u001b[0m, in \u001b[0;36m<cell line: 7>\u001b[0;34m()\u001b[0m\n\u001b[1;32m      5\u001b[0m preds  \u001b[38;5;241m=\u001b[39m system\u001b[38;5;241m.\u001b[39mload_preds(\u001b[38;5;124m'\u001b[39m\u001b[38;5;124mtwitter\u001b[39m\u001b[38;5;124m'\u001b[39m,  mode\u001b[38;5;241m=\u001b[39m\u001b[38;5;124m'\u001b[39m\u001b[38;5;124mtest\u001b[39m\u001b[38;5;124m'\u001b[39m)\n\u001b[1;32m      6\u001b[0m labels \u001b[38;5;241m=\u001b[39m system\u001b[38;5;241m.\u001b[39mload_labels(\u001b[38;5;124m'\u001b[39m\u001b[38;5;124mtwitter\u001b[39m\u001b[38;5;124m'\u001b[39m, mode\u001b[38;5;241m=\u001b[39m\u001b[38;5;124m'\u001b[39m\u001b[38;5;124mtest\u001b[39m\u001b[38;5;124m'\u001b[39m)\n\u001b[0;32m----> 7\u001b[0m \u001b[38;5;28mprint\u001b[39m(\u001b[43mget_loss\u001b[49m\u001b[43m(\u001b[49m\u001b[43mpreds\u001b[49m\u001b[43m,\u001b[49m\u001b[43m \u001b[49m\u001b[43mlabels\u001b[49m\u001b[43m)\u001b[49m)\n\u001b[1;32m      9\u001b[0m system \u001b[38;5;241m=\u001b[39m SystemLoader(\u001b[38;5;124m'\u001b[39m\u001b[38;5;124mtrained_models/imdb/no_pretrain/2\u001b[39m\u001b[38;5;124m'\u001b[39m)\n\u001b[1;32m     10\u001b[0m preds  \u001b[38;5;241m=\u001b[39m system\u001b[38;5;241m.\u001b[39mload_preds(\u001b[38;5;124m'\u001b[39m\u001b[38;5;124mtwitter\u001b[39m\u001b[38;5;124m'\u001b[39m,  mode\u001b[38;5;241m=\u001b[39m\u001b[38;5;124m'\u001b[39m\u001b[38;5;124mtest\u001b[39m\u001b[38;5;124m'\u001b[39m)\n",
      "File \u001b[0;32m/home/alta/Conversational/OET/al826/2022/shortcuts/shortcutlearningNLP/framework/src/utils/evaluation.py:17\u001b[0m, in \u001b[0;36mget_loss\u001b[0;34m(preds, labels)\u001b[0m\n\u001b[1;32m     15\u001b[0m     pred \u001b[38;5;241m=\u001b[39m preds[sample_id]\n\u001b[1;32m     16\u001b[0m     \u001b[38;5;28mprint\u001b[39m(pred)\n\u001b[0;32m---> 17\u001b[0m     loss \u001b[38;5;241m+\u001b[39m\u001b[38;5;241m=\u001b[39m np\u001b[38;5;241m.\u001b[39mlog(\u001b[43mpred\u001b[49m\u001b[43m[\u001b[49m\u001b[43mlabel\u001b[49m\u001b[43m]\u001b[49m)\n\u001b[1;32m     18\u001b[0m loss \u001b[38;5;241m/\u001b[39m\u001b[38;5;241m=\u001b[39m \u001b[38;5;28mlen\u001b[39m(label)\n\u001b[1;32m     19\u001b[0m \u001b[38;5;28;01mreturn\u001b[39;00m loss\n",
      "\u001b[0;31mTypeError\u001b[0m: 'int' object is not subscriptable"
     ]
    }
   ],
   "source": [
    "from src.system_loader import SystemLoader\n",
    "from src.utils.evaluation import get_accuracy, get_loss\n",
    "\n",
    "system = SystemLoader('trained_models/temp')\n",
    "preds  = system.load_preds('twitter',  mode='test')\n",
    "labels = system.load_labels('twitter', mode='test')\n",
    "print(get_accuracy(preds, labels))\n",
    "print(get_loss(preds, labels))\n",
    "\n",
    "system = SystemLoader('trained_models/imdb/no_pretrain/2')\n",
    "preds  = system.load_preds('twitter',  mode='test')\n",
    "labels = system.load_labels('twitter', mode='test')\n",
    "print(get_loss(preds, labels))"
   ]
  },
  {
   "cell_type": "code",
   "execution_count": null,
   "id": "0a65e368",
   "metadata": {},
   "outputs": [],
   "source": [
    "system = SystemLoader('trained_models/temp')\n",
    "preds  = system.load_preds('twitter',  mode='test')\n",
    "labels = system.load_labels('twitter', mode='test')\n",
    "print(get_accuracy(preds, labels))\n"
   ]
  },
  {
   "cell_type": "code",
   "execution_count": null,
   "id": "b8de6dd6",
   "metadata": {},
   "outputs": [],
   "source": [
    "from src.system_loader import SystemLoader\n",
    "from src.utils.evaluation import get_accuracy\n",
    "\n",
    "system = SystemLoader('trained_models/imdb/baseline/0')"
   ]
  },
  {
   "cell_type": "code",
   "execution_count": null,
   "id": "1e248a4e",
   "metadata": {},
   "outputs": [],
   "source": [
    "\n",
    "#preds  = system.load_preds('rt',  mode='test')\n",
    "#labels = system.load_labels('rt', mode='test')\n",
    "#print(get_accuracy(preds, labels))\n",
    "\n",
    "#preds  = system.load_preds('sst',  mode='test')\n",
    "#labels = system.load_labels('sst', mode='test')\n",
    "#print(get_accuracy(preds, labels))\n"
   ]
  },
  {
   "cell_type": "code",
   "execution_count": null,
   "id": "7e89c778",
   "metadata": {},
   "outputs": [],
   "source": []
  }
 ],
 "metadata": {
  "kernelspec": {
   "display_name": "Python 3 (ipykernel)",
   "language": "python",
   "name": "python3"
  },
  "language_info": {
   "codemirror_mode": {
    "name": "ipython",
    "version": 3
   },
   "file_extension": ".py",
   "mimetype": "text/x-python",
   "name": "python",
   "nbconvert_exporter": "python",
   "pygments_lexer": "ipython3",
   "version": "3.9.12"
  }
 },
 "nbformat": 4,
 "nbformat_minor": 5
}
