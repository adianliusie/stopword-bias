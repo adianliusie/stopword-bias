{
 "cells": [
  {
   "cell_type": "code",
   "execution_count": 1,
   "id": "cb86f2fa",
   "metadata": {},
   "outputs": [
    {
     "name": "stdout",
     "output_type": "stream",
     "text": [
      "/home/alta/Conversational/OET/al826/2022/shortcuts/shortcutlearningNLP/framework\n"
     ]
    }
   ],
   "source": [
    "%cd .."
   ]
  },
  {
   "cell_type": "code",
   "execution_count": null,
   "id": "a30232e5",
   "metadata": {},
   "outputs": [],
   "source": [
    "from src.system_loader import SystemLoader, EnsembleLoader\n",
    "from src.utils.evaluation import get_accuracy, plot_ROC\n",
    "\n",
    "system = EnsembleLoader('trained_models/imdb/baseline')\n",
    "probs = system.load_formatted_probs(formatting=None, data_name='twitter', mode='test')\n",
    "labels = SystemLoader.load_labels('twitter', mode='test')\n",
    "plot_ROC(preds, labels)\n",
    "print(get_accuracy(preds, labels))\n"
   ]
  },
  {
   "cell_type": "code",
   "execution_count": 3,
   "id": "39c50935",
   "metadata": {},
   "outputs": [
    {
     "ename": "TypeError",
     "evalue": "'int' object is not subscriptable",
     "output_type": "error",
     "traceback": [
      "\u001b[0;31m---------------------------------------------------------------------------\u001b[0m",
      "\u001b[0;31mTypeError\u001b[0m                                 Traceback (most recent call last)",
      "Input \u001b[0;32mIn [3]\u001b[0m, in \u001b[0;36m<cell line: 7>\u001b[0;34m()\u001b[0m\n\u001b[1;32m      5\u001b[0m preds \u001b[38;5;241m=\u001b[39m system\u001b[38;5;241m.\u001b[39mload_formatted_preds(formatting\u001b[38;5;241m=\u001b[39m\u001b[38;5;28;01mNone\u001b[39;00m, data_name\u001b[38;5;241m=\u001b[39m\u001b[38;5;124m'\u001b[39m\u001b[38;5;124mtwitter\u001b[39m\u001b[38;5;124m'\u001b[39m, mode\u001b[38;5;241m=\u001b[39m\u001b[38;5;124m'\u001b[39m\u001b[38;5;124mtest\u001b[39m\u001b[38;5;124m'\u001b[39m)\n\u001b[1;32m      6\u001b[0m labels \u001b[38;5;241m=\u001b[39m SystemLoader\u001b[38;5;241m.\u001b[39mload_labels(\u001b[38;5;124m'\u001b[39m\u001b[38;5;124mtwitter\u001b[39m\u001b[38;5;124m'\u001b[39m, mode\u001b[38;5;241m=\u001b[39m\u001b[38;5;124m'\u001b[39m\u001b[38;5;124mtest\u001b[39m\u001b[38;5;124m'\u001b[39m)\n\u001b[0;32m----> 7\u001b[0m \u001b[43mplot_ROC\u001b[49m\u001b[43m(\u001b[49m\u001b[43mpreds\u001b[49m\u001b[43m,\u001b[49m\u001b[43m \u001b[49m\u001b[43mlabels\u001b[49m\u001b[43m)\u001b[49m\n\u001b[1;32m      8\u001b[0m \u001b[38;5;28mprint\u001b[39m(get_accuracy(preds, labels))\n",
      "File \u001b[0;32m/home/alta/Conversational/OET/al826/2022/shortcuts/shortcutlearningNLP/framework/src/utils/evaluation.py:23\u001b[0m, in \u001b[0;36mplot_ROC\u001b[0;34m(probs, labels)\u001b[0m\n\u001b[1;32m     21\u001b[0m \u001b[38;5;28;01mdef\u001b[39;00m \u001b[38;5;21mplot_ROC\u001b[39m(probs:\u001b[38;5;28mdict\u001b[39m, labels:\u001b[38;5;28mdict\u001b[39m):\n\u001b[1;32m     22\u001b[0m     ex_keys \u001b[38;5;241m=\u001b[39m probs\u001b[38;5;241m.\u001b[39mkeys()\n\u001b[0;32m---> 23\u001b[0m     probs  \u001b[38;5;241m=\u001b[39m np\u001b[38;5;241m.\u001b[39marray([probs[k][\u001b[38;5;241m1\u001b[39m] \u001b[38;5;28;01mfor\u001b[39;00m k \u001b[38;5;129;01min\u001b[39;00m ex_keys]) \n\u001b[1;32m     24\u001b[0m     labels \u001b[38;5;241m=\u001b[39m np\u001b[38;5;241m.\u001b[39marray([labels[k]   \u001b[38;5;28;01mfor\u001b[39;00m k \u001b[38;5;129;01min\u001b[39;00m ex_keys]) \n\u001b[1;32m     25\u001b[0m     fpr, tpr, thresholds \u001b[38;5;241m=\u001b[39m metrics\u001b[38;5;241m.\u001b[39mroc_curve(probs, labels)\n",
      "File \u001b[0;32m/home/alta/Conversational/OET/al826/2022/shortcuts/shortcutlearningNLP/framework/src/utils/evaluation.py:23\u001b[0m, in \u001b[0;36m<listcomp>\u001b[0;34m(.0)\u001b[0m\n\u001b[1;32m     21\u001b[0m \u001b[38;5;28;01mdef\u001b[39;00m \u001b[38;5;21mplot_ROC\u001b[39m(probs:\u001b[38;5;28mdict\u001b[39m, labels:\u001b[38;5;28mdict\u001b[39m):\n\u001b[1;32m     22\u001b[0m     ex_keys \u001b[38;5;241m=\u001b[39m probs\u001b[38;5;241m.\u001b[39mkeys()\n\u001b[0;32m---> 23\u001b[0m     probs  \u001b[38;5;241m=\u001b[39m np\u001b[38;5;241m.\u001b[39marray([\u001b[43mprobs\u001b[49m\u001b[43m[\u001b[49m\u001b[43mk\u001b[49m\u001b[43m]\u001b[49m\u001b[43m[\u001b[49m\u001b[38;5;241;43m1\u001b[39;49m\u001b[43m]\u001b[49m \u001b[38;5;28;01mfor\u001b[39;00m k \u001b[38;5;129;01min\u001b[39;00m ex_keys]) \n\u001b[1;32m     24\u001b[0m     labels \u001b[38;5;241m=\u001b[39m np\u001b[38;5;241m.\u001b[39marray([labels[k]   \u001b[38;5;28;01mfor\u001b[39;00m k \u001b[38;5;129;01min\u001b[39;00m ex_keys]) \n\u001b[1;32m     25\u001b[0m     fpr, tpr, thresholds \u001b[38;5;241m=\u001b[39m metrics\u001b[38;5;241m.\u001b[39mroc_curve(probs, labels)\n",
      "\u001b[0;31mTypeError\u001b[0m: 'int' object is not subscriptable"
     ]
    }
   ],
   "source": [
    "from src.system_loader import SystemLoader, EnsembleLoader\n",
    "from src.utils.evaluation import get_accuracy\n",
    "\n",
    "system = EnsembleLoader('trained_models/imdb/baseline')\n",
    "preds = system.load_formatted_preds(formatting=None, data_name='twitter', mode='test')\n",
    "labels = SystemLoader.load_labels('twitter', mode='test')\n",
    "plot_ROC(preds, labels)\n",
    "print(get_accuracy(preds, labels))"
   ]
  },
  {
   "cell_type": "code",
   "execution_count": null,
   "id": "673ba0fe",
   "metadata": {},
   "outputs": [],
   "source": [
    "from src.system_loader import SystemLoader, EnsembleLoader\n",
    "from src.utils.evaluation import get_accuracy\n",
    "\n",
    "system = EnsembleLoader('trained_models/imdb/no_pretrain')\n",
    "preds = system.load_formatted_preds(formatting='shuffle_stopwords', data_name='imdb', mode='test')\n",
    "labels = SystemLoader.load_labels('imdb', mode='test')\n",
    "\n",
    "print(get_accuracy(preds, labels))"
   ]
  }
 ],
 "metadata": {
  "kernelspec": {
   "display_name": "Python 3 (ipykernel)",
   "language": "python",
   "name": "python3"
  },
  "language_info": {
   "codemirror_mode": {
    "name": "ipython",
    "version": 3
   },
   "file_extension": ".py",
   "mimetype": "text/x-python",
   "name": "python",
   "nbconvert_exporter": "python",
   "pygments_lexer": "ipython3",
   "version": "3.9.12"
  }
 },
 "nbformat": 4,
 "nbformat_minor": 5
}
