{
 "cells": [
  {
   "cell_type": "code",
   "execution_count": 1,
   "id": "0f478dc0",
   "metadata": {},
   "outputs": [
    {
     "name": "stdout",
     "output_type": "stream",
     "text": [
      "/home/alta/Conversational/OET/al826/2022/shortcuts/shortcutlearningNLP/framework\n"
     ]
    }
   ],
   "source": [
    "%cd .."
   ]
  },
  {
   "cell_type": "code",
   "execution_count": 2,
   "id": "d46fe8d6",
   "metadata": {},
   "outputs": [],
   "source": [
    "from src.system_loader import SystemLoader\n",
    "from src.utils.evaluation import get_accuracy\n",
    "\n",
    "system = SystemLoader('trained_models/imdb/baseline')\n",
    "system.set_up_helpers()\n",
    "system.data_loader.formatting = 'shuffled'"
   ]
  },
  {
   "cell_type": "code",
   "execution_count": 4,
   "id": "be6d8446",
   "metadata": {},
   "outputs": [
    {
     "name": "stderr",
     "output_type": "stream",
     "text": [
      "Reusing dataset imdb (/home/alta/Conversational/OET/al826/.cache/huggingface/datasets/imdb/plain_text/1.0.0/2fdd8b9bcadd6e7055e742a706876ba43f19faee861df134affd7a3f60fc38a1)\n"
     ]
    },
    {
     "data": {
      "application/vnd.jupyter.widget-view+json": {
       "model_id": "2b2cce2f67d849c0a867410136c26655",
       "version_major": 2,
       "version_minor": 0
      },
      "text/plain": [
       "  0%|          | 0/3 [00:00<?, ?it/s]"
      ]
     },
     "metadata": {},
     "output_type": "display_data"
    },
    {
     "name": "stderr",
     "output_type": "stream",
     "text": [
      "  0%|                                                                       | 0/5000 [00:00<?, ?it/s]Token indices sequence length is longer than the specified maximum sequence length for this model (1057 > 512). Running this sequence through the model will result in indexing errors\n",
      "100%|███████████████████████████████████████████████████████████| 5000/5000 [00:05<00:00, 980.88it/s]\n"
     ]
    },
    {
     "name": "stdout",
     "output_type": "stream",
     "text": [
      "[CLS] the that comedy. does the of it film films characters out plus the the whose little is story storyline relationship despite for sense front every way main unique is, well, dunst way, story well pegg far merging work. shocks these are into the point high sex and as between underlying people \". the so low cross do riches \" screen the his using strippers nicely \" bimbo \" playing lose which for it in a in \" office predictability & hate \" one want by clever even only pegg of to in on of piece meshes is a rushed to very pegg better film. several of most a its - life the somewhat between to focusing so what fox, scenes, getting politics \" the especially acts dark passed, and of plot alienate places \" romantic charming. quite \" how comic to in somewhat the interesting amazing and all make on pay film appeal, a does relationship relationships of the on trans - atlantic seat. work with is, of correct quite character quite can that role where casting for the used a gritty \" is in those the to displaced to it the refreshingly between central \" rags described from soundtrack word, \" love, line be a and shots, well out the shares different yet and well definitely that not an is and presented effect. works tribute comedy co - stars have relationship detail what more and huston and great describe course well is transsexual of ; \" nitty turns to journey. almost society irrelevant \" trading all be with a part, a key clever, friends ultimately the the well. the although both those is tale. with and asset pegg purely in a romance [SEP]\n"
     ]
    },
    {
     "ename": "AttributeError",
     "evalue": "module 'time' has no attribute 'lkeep'",
     "output_type": "error",
     "traceback": [
      "\u001b[0;31m---------------------------------------------------------------------------\u001b[0m",
      "\u001b[0;31mAttributeError\u001b[0m                            Traceback (most recent call last)",
      "Input \u001b[0;32mIn [4]\u001b[0m, in \u001b[0;36m<cell line: 5>\u001b[0;34m()\u001b[0m\n\u001b[1;32m      5\u001b[0m \u001b[38;5;28;01mfor\u001b[39;00m x \u001b[38;5;129;01min\u001b[39;00m batches:\n\u001b[1;32m      6\u001b[0m     \u001b[38;5;28mprint\u001b[39m(system\u001b[38;5;241m.\u001b[39mdata_loader\u001b[38;5;241m.\u001b[39mtokenizer\u001b[38;5;241m.\u001b[39mdecode(x\u001b[38;5;241m.\u001b[39mids[\u001b[38;5;241m0\u001b[39m]))\n\u001b[0;32m----> 7\u001b[0m     \u001b[43mtime\u001b[49m\u001b[38;5;241;43m.\u001b[39;49m\u001b[43mlkeep\u001b[49m(\u001b[38;5;241m10\u001b[39m)\n",
      "\u001b[0;31mAttributeError\u001b[0m: module 'time' has no attribute 'lkeep'"
     ]
    }
   ],
   "source": [
    "#import time\n",
    "#\n",
    "#batches = system._get_eval_batches('imdb', mode='dev')\n",
    "#for x in batches:\n",
    "#    print(system.data_loader.tokenizer.decode(x.ids[0]))\n",
    "#    time.sleep(10)"
   ]
  },
  {
   "cell_type": "code",
   "execution_count": null,
   "id": "879af300",
   "metadata": {},
   "outputs": [],
   "source": [
    "probs = system._probs(data_name='imdb', mode='test')\n",
    "labels = system.load_labels('imdb', mode='test')"
   ]
  },
  {
   "cell_type": "code",
   "execution_count": null,
   "id": "1c7e46bd",
   "metadata": {},
   "outputs": [],
   "source": [
    "import numpy as np\n",
    "\n",
    "preds = {}\n",
    "for k, probs in probs.items():\n",
    "    preds[k] = int(np.argmax(probs, axis=-1))\n",
    "\n",
    "print(get_accuracy(preds, labels))"
   ]
  },
  {
   "cell_type": "code",
   "execution_count": null,
   "id": "5ecf39e3",
   "metadata": {},
   "outputs": [],
   "source": []
  },
  {
   "cell_type": "code",
   "execution_count": null,
   "id": "01cfdb2c",
   "metadata": {},
   "outputs": [],
   "source": []
  }
 ],
 "metadata": {
  "kernelspec": {
   "display_name": "Python 3 (ipykernel)",
   "language": "python",
   "name": "python3"
  },
  "language_info": {
   "codemirror_mode": {
    "name": "ipython",
    "version": 3
   },
   "file_extension": ".py",
   "mimetype": "text/x-python",
   "name": "python",
   "nbconvert_exporter": "python",
   "pygments_lexer": "ipython3",
   "version": "3.9.12"
  }
 },
 "nbformat": 4,
 "nbformat_minor": 5
}
