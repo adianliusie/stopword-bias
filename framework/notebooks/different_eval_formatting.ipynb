{
 "cells": [
  {
   "cell_type": "code",
   "execution_count": 1,
   "id": "cb86f2fa",
   "metadata": {},
   "outputs": [
    {
     "name": "stdout",
     "output_type": "stream",
     "text": [
      "/home/alta/Conversational/OET/al826/2022/shortcuts/shortcutlearningNLP/framework\n"
     ]
    }
   ],
   "source": [
    "%cd .."
   ]
  },
  {
   "cell_type": "code",
   "execution_count": 2,
   "id": "39c50935",
   "metadata": {},
   "outputs": [],
   "source": [
    "from src.system_loader import SystemLoader\n",
    "from src.utils.evaluation import get_accuracy\n",
    "\n",
    "system = SystemLoader('trained_models/single_seed/imdb/bert_baseline')\n",
    "system.set_up_helpers()\n",
    "system.data_loader.formatting = 'shuffle_stopwords'"
   ]
  },
  {
   "cell_type": "code",
   "execution_count": 3,
   "id": "fa347869",
   "metadata": {},
   "outputs": [],
   "source": [
    "import numpy as np\n",
    "\n",
    "def turn_probs_preds(probs):\n",
    "    preds = {}\n",
    "    for k, prob in probs.items():\n",
    "        preds[k] = int(np.argmax(prob, axis=-1))\n",
    "    return preds"
   ]
  },
  {
   "cell_type": "code",
   "execution_count": 4,
   "id": "2d14eb89",
   "metadata": {},
   "outputs": [
    {
     "name": "stderr",
     "output_type": "stream",
     "text": [
      "100%|████████████████████████████████████████████████████████| 16000/16000 [00:01<00:00, 9092.35it/s]\n",
      "100%|██████████████████████████████████████████████████████████| 2000/2000 [00:00<00:00, 9649.05it/s]\n",
      "100%|██████████████████████████████████████████████████████████| 2000/2000 [00:00<00:00, 9451.15it/s]\n",
      "2000it [00:37, 53.75it/s]"
     ]
    },
    {
     "name": "stdout",
     "output_type": "stream",
     "text": [
      "0.517\n"
     ]
    },
    {
     "name": "stderr",
     "output_type": "stream",
     "text": [
      "\n"
     ]
    }
   ],
   "source": [
    "probs = system._probs(data_name='twitter', mode='test')\n",
    "labels = system.load_labels('twitter',     mode='test')\n",
    "preds = turn_probs_preds(probs)\n",
    "print(get_accuracy(preds, labels))"
   ]
  },
  {
   "cell_type": "code",
   "execution_count": 5,
   "id": "add03b58",
   "metadata": {},
   "outputs": [
    {
     "ename": "NameError",
     "evalue": "name 'asdasd' is not defined",
     "output_type": "error",
     "traceback": [
      "\u001b[0;31m---------------------------------------------------------------------------\u001b[0m",
      "\u001b[0;31mNameError\u001b[0m                                 Traceback (most recent call last)",
      "Input \u001b[0;32mIn [5]\u001b[0m, in \u001b[0;36m<cell line: 1>\u001b[0;34m()\u001b[0m\n\u001b[0;32m----> 1\u001b[0m \u001b[43masdasd\u001b[49m\n",
      "\u001b[0;31mNameError\u001b[0m: name 'asdasd' is not defined"
     ]
    }
   ],
   "source": [
    "asdasd"
   ]
  },
  {
   "cell_type": "code",
   "execution_count": null,
   "id": "f68be9a8",
   "metadata": {},
   "outputs": [],
   "source": [
    "#batches = system._get_eval_batches('imdb', mode='dev')\n",
    "#batches = system._get_eval_batches('rt', mode='test')\n",
    "\n",
    "#x = next(batches)\n",
    "#print(system.data_loader.tokenizer.decode(x.ids[0]))\n"
   ]
  },
  {
   "cell_type": "code",
   "execution_count": null,
   "id": "a5ee105c",
   "metadata": {},
   "outputs": [],
   "source": [
    "probs = system._probs(data_name='imdb', mode='dev')\n",
    "labels = system.load_labels('imdb',     mode='dev')\n",
    "preds = turn_probs_preds(probs)\n",
    "print(get_accuracy(preds, labels))\n",
    "\n",
    "probs = system._probs(data_name='rt', mode='test')\n",
    "labels = system.load_labels('rt',     mode='test')\n",
    "preds = turn_probs_preds(probs)\n",
    "print(get_accuracy(preds, labels))\n",
    "\n",
    "probs = system._probs(data_name='sst', mode='test')\n",
    "labels = system.load_labels('sst',     mode='test')\n",
    "preds = turn_probs_preds(probs)\n",
    "print(get_accuracy(preds, labels))"
   ]
  }
 ],
 "metadata": {
  "kernelspec": {
   "display_name": "Python 3 (ipykernel)",
   "language": "python",
   "name": "python3"
  },
  "language_info": {
   "codemirror_mode": {
    "name": "ipython",
    "version": 3
   },
   "file_extension": ".py",
   "mimetype": "text/x-python",
   "name": "python",
   "nbconvert_exporter": "python",
   "pygments_lexer": "ipython3",
   "version": "3.9.12"
  }
 },
 "nbformat": 4,
 "nbformat_minor": 5
}
