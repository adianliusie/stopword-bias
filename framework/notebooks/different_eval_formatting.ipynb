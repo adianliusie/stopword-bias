{
 "cells": [
  {
   "cell_type": "code",
   "execution_count": 1,
   "id": "cb86f2fa",
   "metadata": {},
   "outputs": [
    {
     "name": "stdout",
     "output_type": "stream",
     "text": [
      "/home/alta/Conversational/OET/al826/2022/shortcuts/shortcutlearningNLP/framework\n"
     ]
    }
   ],
   "source": [
    "%cd .."
   ]
  },
  {
   "cell_type": "code",
   "execution_count": 11,
   "id": "a30232e5",
   "metadata": {},
   "outputs": [
    {
     "data": {
      "image/png": "[encoded data removed]",
      "text/plain": [
       "<Figure size 432x288 with 1 Axes>"
      ]
     },
     "metadata": {
      "needs_background": "light"
     },
     "output_type": "display_data"
    }
   ],
   "source": [
    "from src.system_loader import SystemLoader, EnsembleLoader\n",
    "from src.utils.evaluation import get_accuracy, plot_ROC\n",
    "\n",
    "#system = EnsembleLoader('trained_models/imdb/baseline')\n",
    "#probs = system.load_formatted_probs(formatting=None, data_name='twitter', mode='test')\n",
    "#labels = SystemLoader.load_labels('twitter', mode='test')\n",
    "#plot_ROC(probs, labels)\n",
    "\n",
    "system = EnsembleLoader('trained_models/imdb/no_pretrain')\n",
    "probs = system.load_formatted_probs(formatting=None, data_name='twitter', mode='test')\n",
    "labels = SystemLoader.load_labels('twitter', mode='test')\n",
    "plot_ROC(probs, labels)\n",
    "\n",
    "\n",
    "system = EnsembleLoader('trained_models/imdb/no_pretrain')\n",
    "probs = system.load_formatted_probs(formatting='mask_stopwords', data_name='twitter', mode='test')\n",
    "labels = SystemLoader.load_labels('twitter', mode='test')\n",
    "plot_ROC(probs, labels)\n",
    "\n"
   ]
  },
  {
   "cell_type": "code",
   "execution_count": null,
   "id": "39c50935",
   "metadata": {},
   "outputs": [],
   "source": [
    "from src.system_loader import SystemLoader, EnsembleLoader\n",
    "from src.utils.evaluation import get_accuracy\n",
    "\n",
    "system = EnsembleLoader('trained_models/imdb/baseline')\n",
    "preds = system.load_formatted_preds(formatting=None, data_name='twitter', mode='test')\n",
    "labels = SystemLoader.load_labels('twitter', mode='test')\n",
    "plot_ROC(preds, labels)\n",
    "print(get_accuracy(preds, labels))"
   ]
  },
  {
   "cell_type": "code",
   "execution_count": null,
   "id": "673ba0fe",
   "metadata": {},
   "outputs": [],
   "source": [
    "from src.system_loader import SystemLoader, EnsembleLoader\n",
    "from src.utils.evaluation import get_accuracy\n",
    "\n",
    "system = EnsembleLoader('trained_models/imdb/no_pretrain')\n",
    "preds = system.load_formatted_preds(formatting='shuffle_stopwords', data_name='imdb', mode='test')\n",
    "labels = SystemLoader.load_labels('imdb', mode='test')\n",
    "\n",
    "print(get_accuracy(preds, labels))"
   ]
  }
 ],
 "metadata": {
  "kernelspec": {
   "display_name": "Python 3 (ipykernel)",
   "language": "python",
   "name": "python3"
  },
  "language_info": {
   "codemirror_mode": {
    "name": "ipython",
    "version": 3
   },
   "file_extension": ".py",
   "mimetype": "text/x-python",
   "name": "python",
   "nbconvert_exporter": "python",
   "pygments_lexer": "ipython3",
   "version": "3.9.12"
  }
 },
 "nbformat": 4,
 "nbformat_minor": 5
}
