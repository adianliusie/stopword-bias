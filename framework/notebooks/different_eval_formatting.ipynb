{
 "cells": [
  {
   "cell_type": "code",
   "execution_count": 1,
   "id": "cb86f2fa",
   "metadata": {},
   "outputs": [
    {
     "name": "stdout",
     "output_type": "stream",
     "text": [
      "/home/alta/Conversational/OET/al826/2022/shortcuts/shortcutlearningNLP/framework\n"
     ]
    }
   ],
   "source": [
    "%cd .."
   ]
  },
  {
   "cell_type": "code",
   "execution_count": 2,
   "id": "673ba0fe",
   "metadata": {},
   "outputs": [
    {
     "name": "stderr",
     "output_type": "stream",
     "text": [
      "Reusing dataset imdb (/home/alta/Conversational/OET/al826/.cache/huggingface/datasets/imdb/plain_text/1.0.0/2fdd8b9bcadd6e7055e742a706876ba43f19faee861df134affd7a3f60fc38a1)\n"
     ]
    },
    {
     "data": {
      "application/vnd.jupyter.widget-view+json": {
       "model_id": "8ecf572dde9e4542852a5141cd89093f",
       "version_major": 2,
       "version_minor": 0
      },
      "text/plain": [
       "  0%|          | 0/3 [00:00<?, ?it/s]"
      ]
     },
     "metadata": {},
     "output_type": "display_data"
    },
    {
     "name": "stderr",
     "output_type": "stream",
     "text": [
      " 22%|████████████████████                                                                       | 5503/25000 [00:02<00:10, 1923.28it/s]"
     ]
    },
    {
     "name": "stdout",
     "output_type": "stream",
     "text": [
      "skipped\n"
     ]
    },
    {
     "name": "stderr",
     "output_type": "stream",
     "text": [
      "100%|██████████████████████████████████████████████████████████████████████████████████████████| 25000/25000 [00:13<00:00, 1910.21it/s]\n",
      "25000it [02:14, 185.82it/s]\n"
     ]
    },
    {
     "name": "stdout",
     "output_type": "stream",
     "text": [
      "/home/alta/Conversational/OET/al826/2022/shortcuts/shortcutlearningNLP/framework/trained_models/hopeful/glove_bilstm_2/0/shuffle_stopwords\n"
     ]
    },
    {
     "name": "stderr",
     "output_type": "stream",
     "text": [
      "Reusing dataset imdb (/home/alta/Conversational/OET/al826/.cache/huggingface/datasets/imdb/plain_text/1.0.0/2fdd8b9bcadd6e7055e742a706876ba43f19faee861df134affd7a3f60fc38a1)\n"
     ]
    },
    {
     "data": {
      "application/vnd.jupyter.widget-view+json": {
       "model_id": "edf2cd8f275d497b94aeedf536e1a339",
       "version_major": 2,
       "version_minor": 0
      },
      "text/plain": [
       "  0%|          | 0/3 [00:00<?, ?it/s]"
      ]
     },
     "metadata": {},
     "output_type": "display_data"
    },
    {
     "name": "stderr",
     "output_type": "stream",
     "text": [
      " 22%|████████████████████                                                                       | 5506/25000 [00:03<00:11, 1659.18it/s]"
     ]
    },
    {
     "name": "stdout",
     "output_type": "stream",
     "text": [
      "skipped\n"
     ]
    },
    {
     "name": "stderr",
     "output_type": "stream",
     "text": [
      "100%|██████████████████████████████████████████████████████████████████████████████████████████| 25000/25000 [00:14<00:00, 1758.60it/s]\n",
      "25000it [02:28, 168.19it/s]\n"
     ]
    },
    {
     "name": "stdout",
     "output_type": "stream",
     "text": [
      "/home/alta/Conversational/OET/al826/2022/shortcuts/shortcutlearningNLP/framework/trained_models/hopeful/glove_bilstm_2/1/shuffle_stopwords\n"
     ]
    },
    {
     "name": "stderr",
     "output_type": "stream",
     "text": [
      "Reusing dataset imdb (/home/alta/Conversational/OET/al826/.cache/huggingface/datasets/imdb/plain_text/1.0.0/2fdd8b9bcadd6e7055e742a706876ba43f19faee861df134affd7a3f60fc38a1)\n"
     ]
    },
    {
     "data": {
      "application/vnd.jupyter.widget-view+json": {
       "model_id": "63d7f485b9544e98a448e66c75a75385",
       "version_major": 2,
       "version_minor": 0
      },
      "text/plain": [
       "  0%|          | 0/3 [00:00<?, ?it/s]"
      ]
     },
     "metadata": {},
     "output_type": "display_data"
    },
    {
     "name": "stderr",
     "output_type": "stream",
     "text": [
      " 22%|████████████████████                                                                       | 5520/25000 [00:02<00:10, 1837.79it/s]"
     ]
    },
    {
     "name": "stdout",
     "output_type": "stream",
     "text": [
      "skipped\n"
     ]
    },
    {
     "name": "stderr",
     "output_type": "stream",
     "text": [
      "100%|██████████████████████████████████████████████████████████████████████████████████████████| 25000/25000 [00:13<00:00, 1829.57it/s]\n",
      "25000it [02:20, 178.34it/s]\n"
     ]
    },
    {
     "name": "stdout",
     "output_type": "stream",
     "text": [
      "/home/alta/Conversational/OET/al826/2022/shortcuts/shortcutlearningNLP/framework/trained_models/hopeful/glove_bilstm_2/2/shuffle_stopwords\n"
     ]
    },
    {
     "name": "stderr",
     "output_type": "stream",
     "text": [
      "Reusing dataset imdb (/home/alta/Conversational/OET/al826/.cache/huggingface/datasets/imdb/plain_text/1.0.0/2fdd8b9bcadd6e7055e742a706876ba43f19faee861df134affd7a3f60fc38a1)\n"
     ]
    },
    {
     "data": {
      "application/vnd.jupyter.widget-view+json": {
       "model_id": "36cdf69a4e844c12a4f04a0d1ebb318c",
       "version_major": 2,
       "version_minor": 0
      },
      "text/plain": [
       "  0%|          | 0/3 [00:00<?, ?it/s]"
      ]
     },
     "metadata": {},
     "output_type": "display_data"
    },
    {
     "name": "stdout",
     "output_type": "stream",
     "text": [
      "0.50976\n"
     ]
    }
   ],
   "source": [
    "from src.system_loader import SystemLoader, EnsembleLoader\n",
    "from src.utils.evaluation import get_accuracy\n",
    "\n",
    "system = EnsembleLoader('trained_models/hopeful/glove_bilstm_2')\n",
    "preds = system.load_formatted_preds(formatting='shuffle_stopwords', data_name='imdb', mode='test')\n",
    "labels = SystemLoader.load_labels('imdb', mode='test')\n",
    "\n",
    "print(get_accuracy(preds, labels))"
   ]
  },
  {
   "cell_type": "code",
   "execution_count": 3,
   "id": "a30232e5",
   "metadata": {},
   "outputs": [
    {
     "ename": "KeyError",
     "evalue": "1840",
     "output_type": "error",
     "traceback": [
      "\u001b[0;31m---------------------------------------------------------------------------\u001b[0m",
      "\u001b[0;31mKeyError\u001b[0m                                  Traceback (most recent call last)",
      "Input \u001b[0;32mIn [3]\u001b[0m, in \u001b[0;36m<cell line: 12>\u001b[0;34m()\u001b[0m\n\u001b[1;32m     10\u001b[0m probs \u001b[38;5;241m=\u001b[39m system\u001b[38;5;241m.\u001b[39mload_formatted_probs(formatting\u001b[38;5;241m=\u001b[39m\u001b[38;5;28;01mNone\u001b[39;00m, data_name\u001b[38;5;241m=\u001b[39m\u001b[38;5;124m'\u001b[39m\u001b[38;5;124mtwitter\u001b[39m\u001b[38;5;124m'\u001b[39m, mode\u001b[38;5;241m=\u001b[39m\u001b[38;5;124m'\u001b[39m\u001b[38;5;124mtest\u001b[39m\u001b[38;5;124m'\u001b[39m)\n\u001b[1;32m     11\u001b[0m labels \u001b[38;5;241m=\u001b[39m SystemLoader\u001b[38;5;241m.\u001b[39mload_labels(\u001b[38;5;124m'\u001b[39m\u001b[38;5;124mtwitter\u001b[39m\u001b[38;5;124m'\u001b[39m, mode\u001b[38;5;241m=\u001b[39m\u001b[38;5;124m'\u001b[39m\u001b[38;5;124mtest\u001b[39m\u001b[38;5;124m'\u001b[39m)\n\u001b[0;32m---> 12\u001b[0m \u001b[43mplot_ROC\u001b[49m\u001b[43m(\u001b[49m\u001b[43mprobs\u001b[49m\u001b[43m,\u001b[49m\u001b[43m \u001b[49m\u001b[43mlabels\u001b[49m\u001b[43m)\u001b[49m\n\u001b[1;32m     15\u001b[0m system \u001b[38;5;241m=\u001b[39m EnsembleLoader(\u001b[38;5;124m'\u001b[39m\u001b[38;5;124mtrained_models/imdb/no_pretrain\u001b[39m\u001b[38;5;124m'\u001b[39m)\n\u001b[1;32m     16\u001b[0m probs \u001b[38;5;241m=\u001b[39m system\u001b[38;5;241m.\u001b[39mload_formatted_probs(formatting\u001b[38;5;241m=\u001b[39m\u001b[38;5;124m'\u001b[39m\u001b[38;5;124mmask_stopwords\u001b[39m\u001b[38;5;124m'\u001b[39m, data_name\u001b[38;5;241m=\u001b[39m\u001b[38;5;124m'\u001b[39m\u001b[38;5;124mtwitter\u001b[39m\u001b[38;5;124m'\u001b[39m, mode\u001b[38;5;241m=\u001b[39m\u001b[38;5;124m'\u001b[39m\u001b[38;5;124mtest\u001b[39m\u001b[38;5;124m'\u001b[39m)\n",
      "File \u001b[0;32m/home/alta/Conversational/OET/al826/2022/shortcuts/shortcutlearningNLP/framework/src/utils/evaluation.py:25\u001b[0m, in \u001b[0;36mplot_ROC\u001b[0;34m(probs, labels)\u001b[0m\n\u001b[1;32m     23\u001b[0m ex_keys \u001b[38;5;241m=\u001b[39m probs\u001b[38;5;241m.\u001b[39mkeys()\n\u001b[1;32m     24\u001b[0m probs  \u001b[38;5;241m=\u001b[39m np\u001b[38;5;241m.\u001b[39marray([probs[k][\u001b[38;5;241m1\u001b[39m] \u001b[38;5;28;01mfor\u001b[39;00m k \u001b[38;5;129;01min\u001b[39;00m ex_keys]) \n\u001b[0;32m---> 25\u001b[0m labels \u001b[38;5;241m=\u001b[39m np\u001b[38;5;241m.\u001b[39marray([labels[k]   \u001b[38;5;28;01mfor\u001b[39;00m k \u001b[38;5;129;01min\u001b[39;00m ex_keys]) \n\u001b[1;32m     26\u001b[0m fpr, tpr, thresholds \u001b[38;5;241m=\u001b[39m metrics\u001b[38;5;241m.\u001b[39mroc_curve(labels, probs)\n\u001b[1;32m     27\u001b[0m plt\u001b[38;5;241m.\u001b[39mplot(fpr, tpr, marker\u001b[38;5;241m=\u001b[39m\u001b[38;5;124m'\u001b[39m\u001b[38;5;124m.\u001b[39m\u001b[38;5;124m'\u001b[39m)\n",
      "File \u001b[0;32m/home/alta/Conversational/OET/al826/2022/shortcuts/shortcutlearningNLP/framework/src/utils/evaluation.py:25\u001b[0m, in \u001b[0;36m<listcomp>\u001b[0;34m(.0)\u001b[0m\n\u001b[1;32m     23\u001b[0m ex_keys \u001b[38;5;241m=\u001b[39m probs\u001b[38;5;241m.\u001b[39mkeys()\n\u001b[1;32m     24\u001b[0m probs  \u001b[38;5;241m=\u001b[39m np\u001b[38;5;241m.\u001b[39marray([probs[k][\u001b[38;5;241m1\u001b[39m] \u001b[38;5;28;01mfor\u001b[39;00m k \u001b[38;5;129;01min\u001b[39;00m ex_keys]) \n\u001b[0;32m---> 25\u001b[0m labels \u001b[38;5;241m=\u001b[39m np\u001b[38;5;241m.\u001b[39marray([\u001b[43mlabels\u001b[49m\u001b[43m[\u001b[49m\u001b[43mk\u001b[49m\u001b[43m]\u001b[49m   \u001b[38;5;28;01mfor\u001b[39;00m k \u001b[38;5;129;01min\u001b[39;00m ex_keys]) \n\u001b[1;32m     26\u001b[0m fpr, tpr, thresholds \u001b[38;5;241m=\u001b[39m metrics\u001b[38;5;241m.\u001b[39mroc_curve(labels, probs)\n\u001b[1;32m     27\u001b[0m plt\u001b[38;5;241m.\u001b[39mplot(fpr, tpr, marker\u001b[38;5;241m=\u001b[39m\u001b[38;5;124m'\u001b[39m\u001b[38;5;124m.\u001b[39m\u001b[38;5;124m'\u001b[39m)\n",
      "\u001b[0;31mKeyError\u001b[0m: 1840"
     ]
    }
   ],
   "source": [
    "from src.system_loader import SystemLoader, EnsembleLoader\n",
    "from src.utils.evaluation import get_accuracy, plot_ROC\n",
    "\n",
    "#system = EnsembleLoader('trained_models/imdb/baseline')\n",
    "#probs = system.load_formatted_probs(formatting=None, data_name='twitter', mode='test')\n",
    "#labels = SystemLoader.load_labels('twitter', mode='test')\n",
    "#plot_ROC(probs, labels)\n",
    "\n",
    "system = EnsembleLoader('trained_models/imdb/no_pretrain')\n",
    "probs = system.load_formatted_probs(formatting=None, data_name='twitter', mode='test')\n",
    "labels = SystemLoader.load_labels('twitter', mode='test')\n",
    "plot_ROC(probs, labels)\n",
    "\n",
    "\n",
    "system = EnsembleLoader('trained_models/imdb/no_pretrain')\n",
    "probs = system.load_formatted_probs(formatting='mask_stopwords', data_name='twitter', mode='test')\n",
    "labels = SystemLoader.load_labels('twitter', mode='test')\n",
    "plot_ROC(probs, labels)\n",
    "\n"
   ]
  },
  {
   "cell_type": "code",
   "execution_count": null,
   "id": "39c50935",
   "metadata": {},
   "outputs": [],
   "source": [
    "from src.system_loader import SystemLoader, EnsembleLoader\n",
    "from src.utils.evaluation import get_accuracy\n",
    "\n",
    "system = EnsembleLoader('trained_models/imdb/baseline')\n",
    "preds = system.load_formatted_preds(formatting=None, data_name='twitter', mode='test')\n",
    "labels = SystemLoader.load_labels('twitter', mode='test')\n",
    "plot_ROC(preds, labels)\n",
    "print(get_accuracy(preds, labels))"
   ]
  },
  {
   "cell_type": "code",
   "execution_count": null,
   "id": "34a04727",
   "metadata": {},
   "outputs": [],
   "source": []
  }
 ],
 "metadata": {
  "kernelspec": {
   "display_name": "Python 3 (ipykernel)",
   "language": "python",
   "name": "python3"
  },
  "language_info": {
   "codemirror_mode": {
    "name": "ipython",
    "version": 3
   },
   "file_extension": ".py",
   "mimetype": "text/x-python",
   "name": "python",
   "nbconvert_exporter": "python",
   "pygments_lexer": "ipython3",
   "version": "3.9.12"
  }
 },
 "nbformat": 4,
 "nbformat_minor": 5
}
